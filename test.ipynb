{
 "cells": [
  {
   "cell_type": "code",
   "execution_count": 4,
   "metadata": {},
   "outputs": [
    {
     "name": "stdout",
     "output_type": "stream",
     "text": [
      "             #    今日    明日\n",
      "0           天気  晴のち曇  晴時々曇\n",
      "1         最高気温   16℃   16℃\n",
      "2         最低気温    6℃    6℃\n",
      "3  降水確率[00-06]   ---    0%\n",
      "4  降水確率[06-12]   ---   20%\n",
      "5  降水確率[12-18]    0%   20%\n",
      "6  降水確率[18-24]    0%   10%\n"
     ]
    }
   ],
   "source": [
    "import requests\n",
    "from bs4 import BeautifulSoup\n",
    "import pandas as pd\n",
    "\n",
    "def get_weather():\n",
    "    \"\"\"天気を取得\"\"\"\n",
    "    url_osaka = \"https://tenki.jp/forecast/6/30/6200/27100/\" \n",
    "    html_text = requests.get(url_osaka).text\n",
    "    soup = BeautifulSoup(html_text, \"html.parser\")\n",
    "    rs = soup.find(class_='forecast-days-wrap clearfix')\n",
    "    # 天気\n",
    "    rs_wether = rs.findAll(class_='weather-telop')\n",
    "    today_weather = rs_wether[0].text.strip()\n",
    "    tomorrow_weather = rs_wether[1].text.strip()\n",
    "    # 最高気温\n",
    "    rs_hightemp = rs.findAll(class_='high-temp temp')\n",
    "    today_hightemp = rs_hightemp[0].text.strip()\n",
    "    tomorrow_hightemp = rs_hightemp[1].text.strip()\n",
    "    # 最低気温\n",
    "    rs_lowtemp = rs.findAll(class_='low-temp temp')\n",
    "    today_lowtemp = rs_lowtemp[0].text.strip()\n",
    "    tomorrow_lowtemp = rs_lowtemp[1].text.strip()\n",
    "    # 降水確率\n",
    "    rs_rain = soup.select('.rain-probability > td')\n",
    "    today_rain_1 = rs_rain[0].text.strip()\n",
    "    today_rain_2 = rs_rain[1].text.strip()\n",
    "    today_rain_3 = rs_rain[2].text.strip()\n",
    "    today_rain_4 = rs_rain[3].text.strip()\n",
    "    tomorrow_rain_1 = rs_rain[4].text.strip()\n",
    "    tomorrow_rain_2 = rs_rain[5].text.strip()\n",
    "    tomorrow_rain_3 = rs_rain[6].text.strip()\n",
    "    tomorrow_rain_4 = rs_rain[7].text.strip()\n",
    "    # 取得結果をdfに格納\n",
    "    df = pd.DataFrame(\n",
    "    data={'#': ['天気', '最高気温', '最低気温', \n",
    "            '降水確率[00-06]', '降水確率[06-12]', '降水確率[12-18]', \n",
    "            '降水確率[18-24]'],\n",
    "          '今日': [today_weather, today_hightemp, \n",
    "            today_lowtemp, today_rain_1, today_rain_2, \n",
    "            today_rain_3, today_rain_4,], \n",
    "          '明日': [tomorrow_weather, tomorrow_hightemp, \n",
    "            tomorrow_lowtemp, tomorrow_rain_1, tomorrow_rain_2, \n",
    "            tomorrow_rain_3, tomorrow_rain_4,],\n",
    "        }\n",
    "    )\n",
    "    print(df)\n",
    "    \n",
    "get_weather()"
   ]
  },
  {
   "cell_type": "code",
   "execution_count": null,
   "metadata": {},
   "outputs": [],
   "source": []
  }
 ],
 "metadata": {
  "kernelspec": {
   "display_name": "venv",
   "language": "python",
   "name": "python3"
  },
  "language_info": {
   "codemirror_mode": {
    "name": "ipython",
    "version": 3
   },
   "file_extension": ".py",
   "mimetype": "text/x-python",
   "name": "python",
   "nbconvert_exporter": "python",
   "pygments_lexer": "ipython3",
   "version": "3.10.4 (tags/v3.10.4:9d38120, Mar 23 2022, 23:13:41) [MSC v.1929 64 bit (AMD64)]"
  },
  "orig_nbformat": 4,
  "vscode": {
   "interpreter": {
    "hash": "2ff6dcf61d9ffba04bbb6bd49be3aaef086fbe07a35a03da2dc40cb8eac56afc"
   }
  }
 },
 "nbformat": 4,
 "nbformat_minor": 2
}
